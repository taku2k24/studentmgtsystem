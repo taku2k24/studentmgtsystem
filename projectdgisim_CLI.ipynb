{
  "nbformat": 4,
  "nbformat_minor": 0,
  "metadata": {
    "colab": {
      "provenance": [],
      "include_colab_link": true
    },
    "kernelspec": {
      "name": "python3",
      "display_name": "Python 3"
    },
    "language_info": {
      "name": "python"
    }
  },
  "cells": [
    {
      "cell_type": "markdown",
      "metadata": {
        "id": "view-in-github",
        "colab_type": "text"
      },
      "source": [
        "<a href=\"https://colab.research.google.com/github/taku2k24/studentmgtsystem/blob/main/projectdgisim_CLI.ipynb\" target=\"_parent\"><img src=\"https://colab.research.google.com/assets/colab-badge.svg\" alt=\"Open In Colab\"/></a>"
      ]
    },
    {
      "cell_type": "markdown",
      "source": [
        "First install the package."
      ],
      "metadata": {
        "id": "rw58PjZhni04"
      }
    },
    {
      "cell_type": "code",
      "execution_count": 1,
      "metadata": {
        "id": "ztFgC9munWfX",
        "outputId": "74a2f138-6624-4f5f-f9ca-29dfbb68f9b2",
        "colab": {
          "base_uri": "https://localhost:8080/"
        }
      },
      "outputs": [
        {
          "output_type": "stream",
          "name": "stdout",
          "text": [
            "Collecting dgisim\n",
            "  Downloading dgisim-0.5.0-py3-none-any.whl.metadata (8.9 kB)\n",
            "Requirement already satisfied: typing-extensions>=4.7.1 in /usr/local/lib/python3.10/dist-packages (from dgisim) (4.12.2)\n",
            "Downloading dgisim-0.5.0-py3-none-any.whl (177 kB)\n",
            "\u001b[2K   \u001b[90m━━━━━━━━━━━━━━━━━━━━━━━━━━━━━━━━━━━━━━━━\u001b[0m \u001b[32m177.5/177.5 kB\u001b[0m \u001b[31m3.5 MB/s\u001b[0m eta \u001b[36m0:00:00\u001b[0m\n",
            "\u001b[?25hInstalling collected packages: dgisim\n",
            "Successfully installed dgisim-0.5.0\n"
          ]
        }
      ],
      "source": [
        "!pip install dgisim"
      ]
    },
    {
      "cell_type": "markdown",
      "source": [
        "Then import it"
      ],
      "metadata": {
        "id": "EkwzI79dnm_u"
      }
    },
    {
      "cell_type": "code",
      "source": [
        "import dgisim"
      ],
      "metadata": {
        "id": "eYEQLl1Lnffa"
      },
      "execution_count": null,
      "outputs": []
    },
    {
      "cell_type": "markdown",
      "source": [
        "Finally simply run the CLI.\n",
        "\n",
        "When the prompt is like `:>` the command you mostly like to use is `a`. (to skip all intermediate state transitions)\n",
        "\n",
        "When the prompt is like `::>` input command following the instructions given at the time."
      ],
      "metadata": {
        "id": "Z4TJPU8cnpTP"
      }
    },
    {
      "cell_type": "code",
      "source": [
        "session = dgisim.CLISession()\n",
        "session.run()"
      ],
      "metadata": {
        "id": "bNcnFpeTnhAc"
      },
      "execution_count": null,
      "outputs": []
    }
  ]
}